{
 "metadata": {
  "name": "03_Sequence_Classification_Solution"
 },
 "nbformat": 3,
 "nbformat_minor": 0,
 "worksheets": [
  {
   "cells": [
    {
     "cell_type": "markdown",
     "metadata": {},
     "source": [
      "# Genome Sequence Classification Solution #"
     ]
    },
    {
     "cell_type": "markdown",
     "metadata": {},
     "source": [
      "## Tasks ##\n",
      "\n",
      "1. Download a genomic sequence from a database, for example, [genbank](http://www.ncbi.nlm.nih.gov/genbank/).\n",
      "2. Determine the GC content of the sequence, i.e., the relative number of guanine and cytosine not the occurence of the pair.\n",
      "3. Determine all tetranucleotide frequencies of the sequence and plot them.\n",
      "1. Repeat the process for the given genomic nucleotide sequences from various organisms and in diverse file formats.\n",
      "4. Compare the GC content and the tetranucleotide frequencies of each sequence pair and plot them.\n",
      "5. Use your results to predict the origin of a number of random sequence chunks."
     ]
    },
    {
     "cell_type": "markdown",
     "metadata": {},
     "source": [
      "What sequences are available, where, and how can we access them easily?"
     ]
    },
    {
     "cell_type": "code",
     "collapsed": false,
     "input": [
      "from glob import glob"
     ],
     "language": "python",
     "metadata": {},
     "outputs": []
    },
    {
     "cell_type": "code",
     "collapsed": false,
     "input": [
      "files = sorted(glob(\"../Sessions/Data/03_Sequence_Classification/*\"))\n",
      "for (i, name) in enumerate(files):\n",
      "    print(\"{0:3d} -> {1}\".format(i, name))"
     ],
     "language": "python",
     "metadata": {},
     "outputs": []
    },
    {
     "cell_type": "markdown",
     "metadata": {},
     "source": [
      "Determine the GC-content."
     ]
    },
    {
     "cell_type": "code",
     "collapsed": false,
     "input": [
      "from Bio import SeqIO"
     ],
     "language": "python",
     "metadata": {},
     "outputs": []
    },
    {
     "cell_type": "code",
     "collapsed": false,
     "input": [
      "from Bio.Alphabet import generic_dna"
     ],
     "language": "python",
     "metadata": {},
     "outputs": []
    },
    {
     "cell_type": "code",
     "collapsed": false,
     "input": [
      "import os"
     ],
     "language": "python",
     "metadata": {},
     "outputs": []
    },
    {
     "cell_type": "code",
     "collapsed": false,
     "input": [
      "def read_seq(filename):\n",
      "    ext = os.path.splitext(filename)[1].lower()\n",
      "    if ext[1] == \"f\":\n",
      "        frmt = \"fasta\"\n",
      "    elif ext[1] == \"g\":\n",
      "        frmt = \"genbank\"\n",
      "    else:\n",
      "        raise StandardError(\"unknown file format\")\n",
      "    try:\n",
      "        record = SeqIO.read(filename, frmt, generic_dna)\n",
      "    except ValueError:\n",
      "        record = list(SeqIO.parse(filename, frmt, generic_dna))\n",
      "    return record"
     ],
     "language": "python",
     "metadata": {},
     "outputs": []
    },
    {
     "cell_type": "code",
     "collapsed": false,
     "input": [
      "genome_names = list()\n",
      "genome_records = list()\n",
      "genome_seq = list()\n",
      "genome_id = dict()\n",
      "for (i, filename) in enumerate(files[:13]):\n",
      "    tmp = os.path.basename(filename).split(\"_\")\n",
      "    genome_names.append(\"{0}.{1}\".format(tmp[0][0].upper(), tmp[1][:4]))\n",
      "    rec = read_seq(filename)\n",
      "    genome_records.append(rec)\n",
      "    genome_id[rec.id] = i\n",
      "    genome_seq.append(str(rec.seq))"
     ],
     "language": "python",
     "metadata": {},
     "outputs": []
    },
    {
     "cell_type": "code",
     "collapsed": false,
     "input": [
      "from Bio.SeqUtils import GC"
     ],
     "language": "python",
     "metadata": {},
     "outputs": []
    },
    {
     "cell_type": "code",
     "collapsed": false,
     "input": [
      "genome_gc = [GC(rec.seq) for rec in genome_records]"
     ],
     "language": "python",
     "metadata": {},
     "outputs": []
    },
    {
     "cell_type": "code",
     "collapsed": true,
     "input": [
      "plt.figsize(16, 6)\n",
      "plt.scatter(range(len(genome_gc)), genome_gc)\n",
      "plt.plot(range(len(genome_gc)), genome_gc)\n",
      "plt.xticks(range(len(genome_gc)), genome_names)\n",
      "plt.ylabel(\"GC Content [%]\")"
     ],
     "language": "python",
     "metadata": {},
     "outputs": []
    },
    {
     "cell_type": "markdown",
     "metadata": {},
     "source": [
      "Determine tetra-nucleotide frequencies."
     ]
    },
    {
     "cell_type": "code",
     "collapsed": false,
     "input": [
      "from collections import defaultdict"
     ],
     "language": "python",
     "metadata": {},
     "outputs": []
    },
    {
     "cell_type": "code",
     "collapsed": false,
     "input": [
      "def sub_freq(seq, sub_sz):\n",
      "    freq = defaultdict(int)\n",
      "    for i in range(len(seq) - sub_sz + 1):\n",
      "        freq[seq[i: i + sub_sz]] += 1\n",
      "    return dict(freq)"
     ],
     "language": "python",
     "metadata": {},
     "outputs": []
    },
    {
     "cell_type": "code",
     "collapsed": false,
     "input": [
      "%timeit sub_freq(genome_seq[0], 4)"
     ],
     "language": "python",
     "metadata": {},
     "outputs": []
    },
    {
     "cell_type": "code",
     "collapsed": false,
     "input": [
      "from itertools import product"
     ],
     "language": "python",
     "metadata": {},
     "outputs": []
    },
    {
     "cell_type": "code",
     "collapsed": false,
     "input": [
      "tetra_nt = sorted(\"\".join(tetra) for tetra in product(\"AGCT\", repeat=4))"
     ],
     "language": "python",
     "metadata": {},
     "outputs": []
    },
    {
     "cell_type": "code",
     "collapsed": false,
     "input": [
      "from scipy.stats import pearsonr"
     ],
     "language": "python",
     "metadata": {},
     "outputs": []
    },
    {
     "cell_type": "code",
     "collapsed": false,
     "input": [
      "import scipy.stats"
     ],
     "language": "python",
     "metadata": {},
     "outputs": []
    },
    {
     "cell_type": "code",
     "collapsed": false,
     "input": [
      "from numpy import ma"
     ],
     "language": "python",
     "metadata": {},
     "outputs": []
    },
    {
     "cell_type": "code",
     "collapsed": false,
     "input": [
      "def get_freq_vec(freq, tetra_keys):\n",
      "    vec = [freq.get(tetra, numpy.nan) for tetra in tetra_keys]\n",
      "    return ma.masked_invalid(vec)"
     ],
     "language": "python",
     "metadata": {},
     "outputs": []
    },
    {
     "cell_type": "code",
     "collapsed": false,
     "input": [
      "def correlation(vec_a, vec_b, measure):\n",
      "    assert len(vec_a) == len(vec_b)\n",
      "    double_mask = numpy.logical_not(numpy.logical_or(vec_a.mask, vec_b.mask))\n",
      "    return measure(vec_a[double_mask], vec_b[double_mask])"
     ],
     "language": "python",
     "metadata": {},
     "outputs": []
    },
    {
     "cell_type": "code",
     "collapsed": false,
     "input": [
      "genome_freq = [sub_freq(seq, 4) for seq in genome_seq]"
     ],
     "language": "python",
     "metadata": {},
     "outputs": []
    },
    {
     "cell_type": "code",
     "collapsed": false,
     "input": [
      "genome_vec = [get_freq_vec(freq, tetra_nt) for freq in genome_freq]"
     ],
     "language": "python",
     "metadata": {},
     "outputs": []
    },
    {
     "cell_type": "code",
     "collapsed": false,
     "input": [
      "def get_heat_map(vecs_a, vecs_b, measure=pearsonr):\n",
      "    heat = numpy.zeros((len(vecs_a), len(vecs_b)))\n",
      "    for (i, vec_a) in enumerate(vecs_a):\n",
      "        for (j, vec_b) in enumerate(vecs_b):\n",
      "            heat[i, j] = correlation(vec_a, vec_b, measure)[0]\n",
      "    return heat"
     ],
     "language": "python",
     "metadata": {},
     "outputs": []
    },
    {
     "cell_type": "code",
     "collapsed": false,
     "input": [
      "heat_map = get_heat_map(genome_vec, genome_vec)"
     ],
     "language": "python",
     "metadata": {},
     "outputs": []
    },
    {
     "cell_type": "code",
     "collapsed": false,
     "input": [
      "plt.figsize(16, 16)\n",
      "plt.imshow(heat_map, interpolation=\"nearest\", cmap=plt.cm.RdYlBu_r)\n",
      "plt.xticks(range(len(genome_vec)), genome_names)\n",
      "plt.yticks(range(len(genome_vec)), genome_names)\n",
      "cb = plt.colorbar()\n",
      "cb.set_label(\"Pearson r\")\n",
      "plt.clim(-1, 1)"
     ],
     "language": "python",
     "metadata": {},
     "outputs": []
    },
    {
     "cell_type": "markdown",
     "metadata": {},
     "source": [
      "Now compare with random sequence chunks."
     ]
    },
    {
     "cell_type": "code",
     "collapsed": false,
     "input": [
      "rnd_files = sorted(glob(\"../Sessions/Data/03_Sequence_Classification/random*\"))\n",
      "for (i, name) in enumerate(rnd_files):\n",
      "    print(\"{0:3d} -> {1}\".format(i, name))"
     ],
     "language": "python",
     "metadata": {},
     "outputs": []
    },
    {
     "cell_type": "code",
     "collapsed": false,
     "input": [
      "rnd_names = list()\n",
      "rnd_records = list()\n",
      "rnd_seq = list()\n",
      "rnd_id = dict()\n",
      "for (i, record) in enumerate(SeqIO.parse(rnd_files[0], \"fasta\")):\n",
      "    rnd_names.append(\"Chunk {0:2d}\".format(i))\n",
      "    rnd_records.append(record)\n",
      "    rnd_seq.append(str(record.seq))\n",
      "    rnd_id[record.id] = i"
     ],
     "language": "python",
     "metadata": {},
     "outputs": []
    },
    {
     "cell_type": "code",
     "collapsed": false,
     "input": [
      "rnd_gc = [GC(rec.seq) for rec in rnd_records]"
     ],
     "language": "python",
     "metadata": {},
     "outputs": []
    },
    {
     "cell_type": "code",
     "collapsed": true,
     "input": [
      "plt.figsize(16, 6)\n",
      "plt.scatter(range(len(rnd_gc)), rnd_gc)\n",
      "plt.plot(range(len(rnd_gc)), rnd_gc)\n",
      "plt.xticks(range(len(rnd_gc)), rnd_names)\n",
      "plt.ylabel(\"GC Content [%]\")"
     ],
     "language": "python",
     "metadata": {},
     "outputs": []
    },
    {
     "cell_type": "code",
     "collapsed": false,
     "input": [
      "rnd_freq = [sub_freq(seq, 4) for seq in rnd_seq]"
     ],
     "language": "python",
     "metadata": {},
     "outputs": []
    },
    {
     "cell_type": "code",
     "collapsed": false,
     "input": [
      "rnd_vec = [get_freq_vec(freq, tetra_nt) for freq in rnd_freq]"
     ],
     "language": "python",
     "metadata": {},
     "outputs": []
    },
    {
     "cell_type": "code",
     "collapsed": false,
     "input": [
      "cmp_map = get_heat_map(rnd_vec, genome_vec)"
     ],
     "language": "python",
     "metadata": {},
     "outputs": []
    },
    {
     "cell_type": "code",
     "collapsed": false,
     "input": [
      "plt.figsize(16, 16)\n",
      "plt.imshow(cmp_map, interpolation=\"nearest\", cmap=plt.cm.RdYlBu_r)\n",
      "plt.yticks(range(len(rnd_vec)), rnd_names)\n",
      "plt.xticks(range(len(genome_vec)), genome_names)\n",
      "cb = plt.colorbar()\n",
      "cb.set_label(\"Pearson r\")\n",
      "plt.clim(-1, 1)"
     ],
     "language": "python",
     "metadata": {},
     "outputs": []
    },
    {
     "cell_type": "code",
     "collapsed": false,
     "input": [
      "import pickle"
     ],
     "language": "python",
     "metadata": {},
     "outputs": []
    },
    {
     "cell_type": "code",
     "collapsed": false,
     "input": [
      "with open(\"../Sessions/Data/03_Sequence_Classification/random_chunks_2012-11-10_sz_40000.pkl\") as file_h:\n",
      "    solution = pickle.load(file_h)"
     ],
     "language": "python",
     "metadata": {},
     "outputs": []
    },
    {
     "cell_type": "code",
     "collapsed": false,
     "input": [
      "x_sol = list()\n",
      "y_sol = list()\n",
      "for (rnd, gen) in solution.iteritems():\n",
      "    x_sol.append(genome_id[gen])\n",
      "    y_sol.append(rnd_id[rnd])"
     ],
     "language": "python",
     "metadata": {},
     "outputs": []
    },
    {
     "cell_type": "code",
     "collapsed": false,
     "input": [
      "plt.figsize(16, 16)\n",
      "plt.scatter(x_sol, y_sol, color=\"black\")\n",
      "plt.imshow(cmp_map, interpolation=\"nearest\", cmap=plt.cm.RdYlBu_r)\n",
      "plt.yticks(range(len(rnd_vec)), rnd_names)\n",
      "plt.xticks(range(len(genome_vec)), genome_names)\n",
      "cb = plt.colorbar()\n",
      "cb.set_label(\"Pearson r\")\n",
      "plt.clim(-1, 1)"
     ],
     "language": "python",
     "metadata": {},
     "outputs": []
    }
   ],
   "metadata": {}
  }
 ]
}