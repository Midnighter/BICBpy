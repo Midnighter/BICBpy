{
 "metadata": {
  "name": "03_Sequence_Classification"
 },
 "nbformat": 3,
 "nbformat_minor": 0,
 "worksheets": [
  {
   "cells": [
    {
     "cell_type": "markdown",
     "metadata": {},
     "source": [
      "# Genome Sequence Classification Tutorial #"
     ]
    },
    {
     "cell_type": "markdown",
     "metadata": {},
     "source": [
      "## Tasks ##\n",
      "\n",
      "1. Download a genomic sequence from a database, for example, [genbank](http://www.ncbi.nlm.nih.gov/genbank/).\n",
      "2. Determine the GC content of the sequence, i.e., the relative number of guanine and cytosine not the occurence of the pair.\n",
      "3. Determine all tetranucleotide frequencies of the sequence and plot them.\n",
      "1. Repeat the process for the given genomic nucleotide sequences from various organisms and in diverse file formats.\n",
      "4. Compare the GC content and the tetranucleotide frequencies of each sequence pair and plot them.\n",
      "5. Use your results to predict the origin of a number of random sequence chunks."
     ]
    },
    {
     "cell_type": "markdown",
     "metadata": {},
     "source": [
      "## Hints ##\n",
      "\n",
      "* `SeqIO.read` and `SeqIO.parse`\n",
      "* Class method `Seq.count`\n",
      "* `itertools` to generate tetranucleotides\n",
      "* Correlation estimate using the [Pearson correlation](http://en.wikipedia.org/wiki/Correlation_and_dependence) $r$ from `scipy.stats.pearsonr`\n",
      "* [BioPython documentation](http://biopython.org/wiki/Category:Wiki_Documentation)"
     ]
    },
    {
     "cell_type": "code",
     "collapsed": true,
     "input": [
      "import itertools\n",
      "\n",
      "from glob import glob\n",
      "from Bio import SeqIO\n",
      "from scipy.stats import pearsonr"
     ],
     "language": "python",
     "metadata": {},
     "outputs": []
    },
    {
     "cell_type": "code",
     "collapsed": false,
     "input": [
      "glob(\"Data/03_Sequence_Classification/*\")"
     ],
     "language": "python",
     "metadata": {},
     "outputs": []
    }
   ],
   "metadata": {}
  }
 ]
}