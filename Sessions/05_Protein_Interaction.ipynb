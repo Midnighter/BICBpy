{
 "metadata": {
  "name": "05_Protein_Interaction"
 },
 "nbformat": 3,
 "nbformat_minor": 0,
 "worksheets": [
  {
   "cells": [
    {
     "cell_type": "markdown",
     "metadata": {},
     "source": [
      "# Protein Interaction Networks #"
     ]
    },
    {
     "cell_type": "markdown",
     "metadata": {},
     "source": [
      "## Tasks ##\n",
      "\n",
      "1. See how you could download organism specific protein interaction information from a database, for example, [BioGRID](http://thebiogrid.org/). More databases are listed by the [Finley lab](http://proteome.wayne.edu/PIDBL.html \"Protein Interaction Databases\") but organism specific information is harder to obtain.\n",
      "2. Parse the interaction network of yeast (_Saccharomyces cerevisiae_) using only entries from [yeast two-hybrid](http://en.wikipedia.org/wiki/Two-hybrid_screening) experiments.\n",
      "3. How does the number of interactions from yeast two-hybrid screens compare with the total number of interactions?\n",
      "4. Generate an **undirected** network using [networkx](http://networkx.lanl.gov/tutorial/tutorial.html).\n",
      "5. Briefly analyse the resulting network:\n",
      "    * Number of nodes $N$\n",
      "    * Number of links $M$\n",
      "    * Number and size of components\n",
      "    * Connectivity (density) $\\rho = \\frac{2 M}{N (N - 1)}$\n",
      "    * Degree distribution\n",
      "6. Reproduce figures 3A & B from Maslov and Sneppen (2002), Science.\n",
      "7. From your results, what do you expect the degree correlation to be? Find out.\n",
      "8. Compare your results for yeast with one other organism of the following list: A. thaliana, C. elegans, D. melanogaster, H. sapiens, M.musculus, S. pombe."
     ]
    },
    {
     "cell_type": "markdown",
     "metadata": {},
     "source": [
      "## Hints ##\n",
      "\n",
      "* The first line in each file contains a standard header that explains the format of the file.\n",
      "* Plot the [probability mass function](http://en.wikipedia.org/wiki/Probability_mass_function) of the degree $k$ in order to adequately compare results from different organisms.\n",
      "* It may be helpful to plot some of your results with logarithmic axes.\n",
      "* [`zipfile` documentation](docs.python.org/library/zipfile.html)\n",
      "* [`networkx` documentation](http://networkx.lanl.gov/reference/index.html)"
     ]
    },
    {
     "cell_type": "code",
     "collapsed": true,
     "input": [
      "import zipfile"
     ],
     "language": "python",
     "metadata": {},
     "outputs": []
    },
    {
     "cell_type": "code",
     "collapsed": false,
     "input": [
      "zip_arch = zipfile.ZipFile(\"Data/05_Protein_Interaction/BIOGRID-ORGANISM-3.1.93.tab2.zip\")\n",
      "zip_arch.namelist()"
     ],
     "language": "python",
     "metadata": {},
     "outputs": []
    },
    {
     "cell_type": "code",
     "collapsed": true,
     "input": [
      "zip_arch.close()"
     ],
     "language": "python",
     "metadata": {},
     "outputs": []
    },
    {
     "cell_type": "code",
     "collapsed": true,
     "input": [
      "import networkx as nx"
     ],
     "language": "python",
     "metadata": {},
     "outputs": []
    }
   ],
   "metadata": {}
  }
 ]
}