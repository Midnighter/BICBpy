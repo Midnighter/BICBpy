{
 "metadata": {
  "name": "rna"
 },
 "nbformat": 3,
 "nbformat_minor": 0,
 "worksheets": [
  {
   "cells": [
    {
     "cell_type": "markdown",
     "metadata": {},
     "source": [
      "# Rosalind"
     ]
    },
    {
     "cell_type": "markdown",
     "metadata": {},
     "source": [
      "## Problem: RNA\n",
      "\n",
      "We are asked to take a DNA sequence and turn it into an RNA sequence by replacing all _T_ s with _U_ s."
     ]
    },
    {
     "cell_type": "code",
     "collapsed": false,
     "input": [
      "seq = \"GGTCAGTTAGAGACGAACTTAGGTCACGCAATGACTTGATATACAGATACTTCGCCTACAGACACACATATGCAGTCGTTGGTCTCTGAGACACCACCTGGCGCAAAAAAATTCAGGGCATACTGTCTCAGCAACCGGCCCGTTCCAACGTACACGCGTCCTACTAGGGGGGCTGAGCGTTCCAACAGCCGATACCGCCGCGATACAGAGATTGAGTAAAGCGCCAATTGTATTATTTAGAATTAGTGGAATCGAATTCAGCTATAGTGGGTGCACCGAAACATTTGACTGCCATTGCATAAATGCGAAGCGACTCTTATCCCCCACTCAATTTAGGGGTCTGGTACTGACTTCCAGCATGCCTACACTGGGGCCATGAATCCTGCATAGGCCGTAGCTAACCTGTTCAGTATGTCTTTTGTTTATTGCGGGCTCCTTGGCATATCAACGAGCTTGCACCCGGCGGATGACGGACTAAATAATGATGAATGTCCAATATGCCCTTAGCTTTACACGTATCAGCGAGGGTAATCATCACCTGTGAAGTCATCGACACTACGGCTGATCCTGCTGTATCGAAGCAGTTAGCACCATTGCGGCTGAATAGAAATCCAAATCTCACACGAAATTATTGGCATGTATGCACGAGGCTCGGTGGATTCCGGGGGCGCCGATAACACTCTGGTCCTACCATAGCGTCAGGACCTTAATAATAACCCCGCTAGGTGCCAGTCGTGTTATAGTTGTCGACCTTCTTGCACTAACATATGCATCAACCTTTGTACAGCTGTACCGCCTTAGAGAATAGTCAAAGCAACTCGTCATTGTCTGGATCGCGGTCTACAGCTGTTCATTTGGGCCCGGCACCGCCCCAAATTGCTATCGTCCCTGATTCTACGTAAGCCTCTG\""
     ],
     "language": "python",
     "metadata": {},
     "outputs": [],
     "prompt_number": 3
    },
    {
     "cell_type": "code",
     "collapsed": false,
     "input": [
      "%timeit seq.replace(\"T\", \"U\")"
     ],
     "language": "python",
     "metadata": {},
     "outputs": [
      {
       "output_type": "stream",
       "stream": "stdout",
       "text": [
        "100000 loops, best of 3: 5.06 us per loop\n"
       ]
      }
     ],
     "prompt_number": 4
    },
    {
     "cell_type": "code",
     "collapsed": false,
     "input": [
      "import string"
     ],
     "language": "python",
     "metadata": {},
     "outputs": [],
     "prompt_number": 5
    },
    {
     "cell_type": "code",
     "collapsed": false,
     "input": [
      "tab = string.maketrans(\"T\", \"U\")"
     ],
     "language": "python",
     "metadata": {},
     "outputs": [],
     "prompt_number": 6
    },
    {
     "cell_type": "code",
     "collapsed": false,
     "input": [
      "%timeit seq.translate(tab)"
     ],
     "language": "python",
     "metadata": {},
     "outputs": [
      {
       "output_type": "stream",
       "stream": "stdout",
       "text": [
        "100000 loops, best of 3: 2.51 us per loop\n"
       ]
      }
     ],
     "prompt_number": 8
    },
    {
     "cell_type": "code",
     "collapsed": false,
     "input": [
      "swap = {\"A\": \"T\", \"G\": \"C\", \"C\": \"G\", \"T\": \"A\"}"
     ],
     "language": "python",
     "metadata": {},
     "outputs": [],
     "prompt_number": 10
    },
    {
     "cell_type": "code",
     "collapsed": false,
     "input": [
      "%timeit \"\".join(swap[lett] for lett in reversed(seq))"
     ],
     "language": "python",
     "metadata": {},
     "outputs": [
      {
       "output_type": "stream",
       "stream": "stdout",
       "text": [
        "10000 loops, best of 3: 129 us per loop\n"
       ]
      }
     ],
     "prompt_number": 15
    },
    {
     "cell_type": "code",
     "collapsed": false,
     "input": [
      "def revc(seq):\n",
      "    tab = string.maketrans(\"AGCT\", \"TCGA\")\n",
      "    return reversed(seq.translate(tab))"
     ],
     "language": "python",
     "metadata": {},
     "outputs": [],
     "prompt_number": 40
    },
    {
     "cell_type": "code",
     "collapsed": false,
     "input": [
      "l = range(1, 101)"
     ],
     "language": "python",
     "metadata": {},
     "outputs": [],
     "prompt_number": 22
    },
    {
     "cell_type": "code",
     "collapsed": false,
     "input": [
      "%timeit l[9:20][::-1]"
     ],
     "language": "python",
     "metadata": {},
     "outputs": [
      {
       "output_type": "stream",
       "stream": "stdout",
       "text": [
        "1000000 loops, best of 3: 538 ns per loop\n"
       ]
      }
     ],
     "prompt_number": 27
    },
    {
     "cell_type": "code",
     "collapsed": false,
     "input": [
      "%timeit reversed(l[9:20])"
     ],
     "language": "python",
     "metadata": {},
     "outputs": [
      {
       "output_type": "stream",
       "stream": "stdout",
       "text": [
        "1000000 loops, best of 3: 450 ns per loop\n"
       ]
      }
     ],
     "prompt_number": 28
    },
    {
     "cell_type": "code",
     "collapsed": false,
     "input": [
      "from Bio.Seq import Seq"
     ],
     "language": "python",
     "metadata": {},
     "outputs": [],
     "prompt_number": 29
    },
    {
     "cell_type": "code",
     "collapsed": false,
     "input": [
      "from Bio.Alphabet import generic_dna, generic_protein"
     ],
     "language": "python",
     "metadata": {},
     "outputs": [],
     "prompt_number": 33
    },
    {
     "cell_type": "code",
     "collapsed": false,
     "input": [
      "dna = Seq(seq, generic_dna)"
     ],
     "language": "python",
     "metadata": {},
     "outputs": [],
     "prompt_number": 37
    },
    {
     "cell_type": "code",
     "collapsed": false,
     "input": [
      "dna.reverse_complement()"
     ],
     "language": "python",
     "metadata": {},
     "outputs": [
      {
       "output_type": "pyout",
       "prompt_number": 43,
       "text": [
        "Seq('CAGAGGCTTACGTAGAATCAGGGACGATAGCAATTTGGGGCGGTGCCGGGCCCA...ACC', DNAAlphabet())"
       ]
      }
     ],
     "prompt_number": 43
    },
    {
     "cell_type": "code",
     "collapsed": false,
     "input": [
      "str(dna) + dna"
     ],
     "language": "python",
     "metadata": {},
     "outputs": [
      {
       "output_type": "pyout",
       "prompt_number": 45,
       "text": [
        "Seq('GGTCAGTTAGAGACGAACTTAGGTCACGCAATGACTTGATATACAGATACTTCG...CTG', DNAAlphabet())"
       ]
      }
     ],
     "prompt_number": 45
    },
    {
     "cell_type": "code",
     "collapsed": false,
     "input": [
      "%timeit dna.reverse_complement()"
     ],
     "language": "python",
     "metadata": {},
     "outputs": [
      {
       "output_type": "stream",
       "stream": "stdout",
       "text": [
        "100000 loops, best of 3: 10.4 us per loop\n"
       ]
      }
     ],
     "prompt_number": 38
    },
    {
     "cell_type": "code",
     "collapsed": false,
     "input": [
      "%timeit revc(seq)"
     ],
     "language": "python",
     "metadata": {},
     "outputs": [
      {
       "output_type": "stream",
       "stream": "stdout",
       "text": [
        "100000 loops, best of 3: 3.35 us per loop\n"
       ]
      }
     ],
     "prompt_number": 42
    },
    {
     "cell_type": "code",
     "collapsed": false,
     "input": [],
     "language": "python",
     "metadata": {},
     "outputs": []
    }
   ],
   "metadata": {}
  }
 ]
}