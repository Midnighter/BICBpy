{
 "metadata": {
  "name": "rosalind"
 },
 "nbformat": 3,
 "nbformat_minor": 0,
 "worksheets": [
  {
   "cells": [
    {
     "cell_type": "code",
     "collapsed": false,
     "input": [
      "def collect_input(filename):\n",
      "    with open(filename, \"r\") as file_h:\n",
      "        content = file_h.readlines()\n",
      "    return tuple(line.strip() for line in content)"
     ],
     "language": "python",
     "metadata": {},
     "outputs": [],
     "prompt_number": 1
    },
    {
     "cell_type": "code",
     "collapsed": false,
     "input": [
      "from collections import defaultdict"
     ],
     "language": "python",
     "metadata": {},
     "outputs": [],
     "prompt_number": 2
    },
    {
     "cell_type": "code",
     "collapsed": false,
     "input": [
      "def count_nucleotides(seq):\n",
      "    counts = defaultdict(int)\n",
      "    for nt in seq:\n",
      "        counts[nt] += 1\n",
      "    return \"{0:d} {1:d} {2:d} {3:d}\".format(counts[\"A\"], counts[\"C\"], counts[\"G\"], counts[\"T\"])"
     ],
     "language": "python",
     "metadata": {},
     "outputs": [],
     "prompt_number": 3
    },
    {
     "cell_type": "code",
     "collapsed": false,
     "input": [
      "count_nucleotides(*collect_input(\"rosalind_dna.txt\"))"
     ],
     "language": "python",
     "metadata": {},
     "outputs": [
      {
       "output_type": "pyout",
       "prompt_number": 4,
       "text": [
        "'237 245 246 212'"
       ]
      }
     ],
     "prompt_number": 4
    },
    {
     "cell_type": "code",
     "collapsed": false,
     "input": [
      "def weird_transcription(seq):\n",
      "    return seq.replace(\"T\", \"U\")"
     ],
     "language": "python",
     "metadata": {},
     "outputs": [],
     "prompt_number": 5
    },
    {
     "cell_type": "code",
     "collapsed": false,
     "input": [
      "weird_transcription(*collect_input(\"rosalind_rna.txt\"))"
     ],
     "language": "python",
     "metadata": {},
     "outputs": [
      {
       "output_type": "pyout",
       "prompt_number": 6,
       "text": [
        "'GGUCAGUUAGAGACGAACUUAGGUCACGCAAUGACUUGAUAUACAGAUACUUCGCCUACAGACACACAUAUGCAGUCGUUGGUCUCUGAGACACCACCUGGCGCAAAAAAAUUCAGGGCAUACUGUCUCAGCAACCGGCCCGUUCCAACGUACACGCGUCCUACUAGGGGGGCUGAGCGUUCCAACAGCCGAUACCGCCGCGAUACAGAGAUUGAGUAAAGCGCCAAUUGUAUUAUUUAGAAUUAGUGGAAUCGAAUUCAGCUAUAGUGGGUGCACCGAAACAUUUGACUGCCAUUGCAUAAAUGCGAAGCGACUCUUAUCCCCCACUCAAUUUAGGGGUCUGGUACUGACUUCCAGCAUGCCUACACUGGGGCCAUGAAUCCUGCAUAGGCCGUAGCUAACCUGUUCAGUAUGUCUUUUGUUUAUUGCGGGCUCCUUGGCAUAUCAACGAGCUUGCACCCGGCGGAUGACGGACUAAAUAAUGAUGAAUGUCCAAUAUGCCCUUAGCUUUACACGUAUCAGCGAGGGUAAUCAUCACCUGUGAAGUCAUCGACACUACGGCUGAUCCUGCUGUAUCGAAGCAGUUAGCACCAUUGCGGCUGAAUAGAAAUCCAAAUCUCACACGAAAUUAUUGGCAUGUAUGCACGAGGCUCGGUGGAUUCCGGGGGCGCCGAUAACACUCUGGUCCUACCAUAGCGUCAGGACCUUAAUAAUAACCCCGCUAGGUGCCAGUCGUGUUAUAGUUGUCGACCUUCUUGCACUAACAUAUGCAUCAACCUUUGUACAGCUGUACCGCCUUAGAGAAUAGUCAAAGCAACUCGUCAUUGUCUGGAUCGCGGUCUACAGCUGUUCAUUUGGGCCCGGCACCGCCCCAAAUUGCUAUCGUCCCUGAUUCUACGUAAGCCUCUG'"
       ]
      }
     ],
     "prompt_number": 6
    },
    {
     "cell_type": "code",
     "collapsed": false,
     "input": [
      "import string"
     ],
     "language": "python",
     "metadata": {},
     "outputs": [],
     "prompt_number": 7
    },
    {
     "cell_type": "code",
     "collapsed": false,
     "input": [
      "def reverse_complement(seq, inchr=\"ACGT\", outchr=\"TGCA\"):\n",
      "    tab = string.maketrans(inchr, outchr)\n",
      "    return string.translate(seq[::-1], tab)"
     ],
     "language": "python",
     "metadata": {},
     "outputs": [],
     "prompt_number": 8
    },
    {
     "cell_type": "code",
     "collapsed": false,
     "input": [
      "reverse_complement(*collect_input(\"rosalind_revc.txt\"))"
     ],
     "language": "python",
     "metadata": {},
     "outputs": [
      {
       "output_type": "pyout",
       "prompt_number": 9,
       "text": [
        "'CAATATATGTTCACAGCACCTGAAGATGGACCGAGCACCCCGGCATGGTATTGAAGGTAAACGAACTCAATCTATCCACTGAAGTTGTCTTCGGTGAGTGAGCCGTTACAAATTTGGTGCACAGCAGACTGAATTAGGCCAGAACAATCACCTTGGGTCAAATGCAAATCCATCAGGTAAAGTTGAACCCTGCATGGGCATGCTCTGATTCATATACGTTTGCGCCTAAATGGGCCTACAATGAAAAGCGAGAGCTCATTATGATGAAGGCGCCGGGCTCGATGGCGGTATATGGCGAGCGTGATCTAGCCATGTGAACCGATGTAAGAACGGGATGTAGTGGTCTGGGATATTGTCTATGTGTACCCTCCCATGCTAGTATTAATCACTCGAAATGCGGGTATCATTCGAAGTACACGATACTCCCATACTACACGAAAGATGGCTGCCGATAGCTTTGGCGGAGCTATCTCGAAGAGTCTTGACCCACCTTAATCGCGTAACCCTCTATTGACGAGTGATACAGCCAGTCGACAGTCTGCGAGATTTTCAAAGAAGGCAATAACCCAACTTTCCACCTTTATCCCAGGCGGCTGCAACTAATGTCGGATAGCCATTGCATCAGTCGTGACCTGCCAAAAAACTGACTGCTTAGATGAATCGTACCGGCTGCTCTAGTGCTGCTCCACTTCAGGTAACACAACTCAATCTCTTTCTCTAAGTGACGTACATACGGGTGGACACGCGTCGGTGGGTATATACCCACCTTGCGTTTACTCCTCCCCGGGTTAAGCTAAAGCAAACTTTTTCGAGGAGTCCGGGCTTATTGCGTTAGAACTTTCGTTGCCTGATATTCCGGGCGGACGGTGACGTCGTTGTCATTCGTCTGGTCCGCAGCTACA'"
       ]
      }
     ],
     "prompt_number": 9
    },
    {
     "cell_type": "code",
     "collapsed": false,
     "input": [
      "def substrings(seq, sub):\n",
      "    locations = list()\n",
      "    pos = seq.find(sub)\n",
      "    while pos > -1:\n",
      "        # because of Python zero-indexing\n",
      "        pos += 1\n",
      "        locations.append(pos)\n",
      "        pos = seq.find(sub, pos)\n",
      "    return \" \".join(str(x) for x in locations)"
     ],
     "language": "python",
     "metadata": {},
     "outputs": [],
     "prompt_number": 10
    },
    {
     "cell_type": "code",
     "collapsed": false,
     "input": [
      "substrings(*collect_input(\"rosalind_subs.txt\"))"
     ],
     "language": "python",
     "metadata": {},
     "outputs": [
      {
       "output_type": "pyout",
       "prompt_number": 11,
       "text": [
        "'36 89 129 136 178 308 315 345 360 367 383 404 420 477 492 513 562 594 613 649 667 674 691 732 769 839 880 910'"
       ]
      }
     ],
     "prompt_number": 11
    }
   ],
   "metadata": {}
  }
 ]
}