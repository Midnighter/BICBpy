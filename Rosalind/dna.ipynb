{
 "metadata": {
  "name": "dna"
 },
 "nbformat": 3,
 "nbformat_minor": 0,
 "worksheets": [
  {
   "cells": [
    {
     "cell_type": "markdown",
     "metadata": {},
     "source": [
      "# Rosalind"
     ]
    },
    {
     "cell_type": "markdown",
     "metadata": {},
     "source": [
      "## Problem: DNA\n",
      "\n",
      "Abstractly, the problem asks us to count individual symbols in a sequence. Specifically, we know that the sequence consists only of the four capital letters _A_, _G_, _C_, and _T_.\n",
      "\n",
      "Given that knowledge, we can write a function that searches a given sequence using if-clauses to increment variables."
     ]
    },
    {
     "cell_type": "code",
     "collapsed": false,
     "input": [
      "def count_var(seq):\n",
      "    \"\"\"\n",
      "    Counts the occurrences of the letters 'A', 'G', 'C', and 'T' in the given sequence.\n",
      "    \"\"\"\n",
      "    a_freq = 0\n",
      "    g_freq = 0\n",
      "    c_freq = 0\n",
      "    t_freq = 0\n",
      "    for lett in seq:\n",
      "        if lett == \"A\":\n",
      "            a_freq += 1\n",
      "        elif lett == \"G\":\n",
      "            g_freq += 1\n",
      "        elif lett == \"C\":\n",
      "            c_freq += 1\n",
      "        elif lett == \"T\":\n",
      "            t_freq += 1\n",
      "    return (a_freq, g_freq, c_freq, t_freq)"
     ],
     "language": "python",
     "metadata": {},
     "outputs": [],
     "prompt_number": 1
    },
    {
     "cell_type": "markdown",
     "metadata": {},
     "source": [
      "The benefit of the `count_var` function is that other symbols in the sequence are simply ignored (via the missing else-clause). The disadvantage is that even if you pass the four letters as arguments to the function, it will always be restricted to four. Maintaining if- and elif-clauses for many symbols quickly becomes impossible."
     ]
    },
    {
     "cell_type": "code",
     "collapsed": false,
     "input": [
      "def count_dict(seq, *args):\n",
      "    \"\"\"\n",
      "    Counts the occurences of any item captured in args within the iterable seq.\n",
      "    \"\"\"\n",
      "    # we use a generator within the call to the dict class here\n",
      "    # the generator returns tuples which are entered as key, value pairs, try it ;)\n",
      "    freq = dict((item, 0) for item in args)\n",
      "    for item in seq:\n",
      "        freq[item] += 1\n",
      "    return freq"
     ],
     "language": "python",
     "metadata": {},
     "outputs": [],
     "prompt_number": 2
    },
    {
     "cell_type": "markdown",
     "metadata": {},
     "source": [
      "The `count_dict` function has the advantage that it is completely abstract. Anything passed to the function as additional arguments will be counted in the iterable `seq`. This extends to any single letters in strings, numbers, or any Python class instance really. The big disadvantage is that any unexpected item in `seq` will cause a `KeyError`."
     ]
    },
    {
     "cell_type": "code",
     "collapsed": false,
     "input": [
      "from collections import defaultdict"
     ],
     "language": "python",
     "metadata": {},
     "outputs": [],
     "prompt_number": 3
    },
    {
     "cell_type": "code",
     "collapsed": false,
     "input": [
      "def count_default(seq):\n",
      "    \"\"\"\n",
      "    Counts the occurences of any item in the iterable seq.\n",
      "    \"\"\"\n",
      "    # you can pass any class to defaultdict\n",
      "    # when a new key is found, defaultdict internally does defaultdict[key] = class()\n",
      "    # for integers this happens to create a new instance which is zero\n",
      "    freq = defaultdict(int)\n",
      "    for item in seq:\n",
      "        freq[item] += 1\n",
      "    return freq"
     ],
     "language": "python",
     "metadata": {},
     "outputs": [],
     "prompt_number": 4
    },
    {
     "cell_type": "markdown",
     "metadata": {},
     "source": [
      "The `count_default` function has all the advantages of the `count_dict` function and additionally does not raise `KeyError`s."
     ]
    },
    {
     "cell_type": "markdown",
     "metadata": {},
     "source": [
      "Let's test the performance of these functions on a longish DNA sequence. $5 \\cdot 10^{6}$ basepairs is longer than the entire genome of _Escherichia coli_."
     ]
    },
    {
     "cell_type": "code",
     "collapsed": false,
     "input": [
      "import random"
     ],
     "language": "python",
     "metadata": {},
     "outputs": [],
     "prompt_number": 5
    },
    {
     "cell_type": "code",
     "collapsed": false,
     "input": [
      "# note the use of a list comprehension here, you could try how long it takes using a Python for loop\n",
      "dna = [random.choice(\"AGCT\") for i in range(5000000)]"
     ],
     "language": "python",
     "metadata": {},
     "outputs": [],
     "prompt_number": 6
    },
    {
     "cell_type": "code",
     "collapsed": false,
     "input": [
      "%timeit count_var(dna)"
     ],
     "language": "python",
     "metadata": {},
     "outputs": [
      {
       "output_type": "stream",
       "stream": "stdout",
       "text": [
        "1 loops, best of 3: 745 ms per loop\n"
       ]
      }
     ],
     "prompt_number": 7
    },
    {
     "cell_type": "code",
     "collapsed": false,
     "input": [
      "%timeit count_dict(dna, \"A\", \"G\", \"C\", \"T\")"
     ],
     "language": "python",
     "metadata": {},
     "outputs": [
      {
       "output_type": "stream",
       "stream": "stdout",
       "text": [
        "1 loops, best of 3: 601 ms per loop\n"
       ]
      }
     ],
     "prompt_number": 8
    },
    {
     "cell_type": "code",
     "collapsed": false,
     "input": [
      "%timeit count_default(dna)"
     ],
     "language": "python",
     "metadata": {},
     "outputs": [
      {
       "output_type": "stream",
       "stream": "stdout",
       "text": [
        "1 loops, best of 3: 593 ms per loop\n"
       ]
      }
     ],
     "prompt_number": 9
    },
    {
     "cell_type": "markdown",
     "metadata": {},
     "source": [
      "You can clearly see that the dictionary functions out-perform the if-clause function already, even with only four cases. This performance for the dictionary based functions will be stable no matter how many different symbols we're interested in, whereas the if-clause function's performance will deteriorate the more clauses we add."
     ]
    },
    {
     "cell_type": "markdown",
     "metadata": {},
     "source": [
      "You can use the outputs of these functions in the following way to get a result that Rosalind accepts."
     ]
    },
    {
     "cell_type": "code",
     "collapsed": false,
     "input": [
      "\"{0:d} {1:d} {2:d} {3:d}\".format(*count_var(dna))"
     ],
     "language": "python",
     "metadata": {},
     "outputs": [
      {
       "output_type": "pyout",
       "prompt_number": 10,
       "text": [
        "'1250011 1250356 1249580 1250053'"
       ]
      }
     ],
     "prompt_number": 10
    },
    {
     "cell_type": "code",
     "collapsed": false,
     "input": [
      "\"{A:d} {G:d} {C:d} {T:d}\".format(**count_dict(dna, \"A\", \"G\", \"C\", \"T\"))"
     ],
     "language": "python",
     "metadata": {},
     "outputs": [
      {
       "output_type": "pyout",
       "prompt_number": 11,
       "text": [
        "'1250011 1250356 1249580 1250053'"
       ]
      }
     ],
     "prompt_number": 11
    },
    {
     "cell_type": "code",
     "collapsed": false,
     "input": [
      "counts = count_default(dna)\n",
      "\"{0:d} {1:d} {2:d} {3:d}\".format(counts[\"A\"], counts[\"G\"], counts[\"C\"], counts[\"T\"])"
     ],
     "language": "python",
     "metadata": {},
     "outputs": [
      {
       "output_type": "pyout",
       "prompt_number": 12,
       "text": [
        "'1250011 1250356 1249580 1250053'"
       ]
      }
     ],
     "prompt_number": 12
    }
   ],
   "metadata": {}
  }
 ]
}